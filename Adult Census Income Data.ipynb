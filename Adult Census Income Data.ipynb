{
 "cells": [
  {
   "cell_type": "code",
   "execution_count": 1,
   "metadata": {},
   "outputs": [
    {
     "data": {
      "text/plain": [
       "'\\nAdult Census Income Data\\nGoal : Predict if income is above or below $50k based on personal text data features \\n15 Columns (8 categorical data) 48841 rows\\nmajority vs miniority class = 76% vs 24%\\nmissing data : about 7%\\nEvaluation Metric: Accuracy\\n* I chose to use accuracy over ROC-AUC because for an imbalanced datatset\\nwith a severe skew and smaller amount of minority class, the ROC AUC\\ncan be misleading.\\n* Because less than 80% of examples belong to the majority class, \\nI determined that accuracy would be the best evaluation metric for me.\\n'"
      ]
     },
     "execution_count": 1,
     "metadata": {},
     "output_type": "execute_result"
    }
   ],
   "source": [
    "'''\n",
    "Adult Census Income Data\n",
    "Goal : Predict if income is above or below $50k based on personal text data features \n",
    "15 Columns (8 categorical data) 48841 rows\n",
    "majority vs miniority class = 76% vs 24%\n",
    "missing data : about 7%\n",
    "Evaluation Metric: Accuracy\n",
    "* I chose to use accuracy over ROC-AUC because for an imbalanced datatset\n",
    "with a severe skew and smaller amount of minority class, the ROC AUC\n",
    "can be misleading.\n",
    "* Because less than 80% of examples belong to the majority class, \n",
    "I determined that accuracy would be the best evaluation metric for me.\n",
    "'''"
   ]
  },
  {
   "cell_type": "code",
   "execution_count": null,
   "metadata": {},
   "outputs": [],
   "source": [
    "'''\n",
    "Unfortunately, the XGBoost package was not properly working on my laptop\n",
    "so I was unable to include the model in my program.\n",
    "This could've significantly affected the results, however, I was\n",
    "pleased that the rest of the algorithms worked correctly.\n",
    "'''"
   ]
  },
  {
   "cell_type": "code",
   "execution_count": 2,
   "metadata": {},
   "outputs": [
    {
     "data": {
      "text/plain": [
       "\"\\nResults \\nBest Model parameters:\\nStackingClassifier(final estimator=Logistic Regression,final_estimator__C= 0.1,stack_method='auto'}) and the following 5 estimators: \\n1. DecisionTree(max_depth=5)\\n2. Random Forest(criterion='gini', max_depth=6, max_features='auto',n_estimators=100)\\n3. Gradient Boost(learning_rate= 0.5, max_depth= 6, n_estimators=150)\\n4. ExtraTrees(criterion='entropy', max_depth= 8, max_features='auto', n_estimators=50)\\n5. XGBoost(learning_rate=0.5, max_depth=6, min_child_weight=1, n_estimators=150, subsample=0.8) \\nMean Cross validation score of Best model: 0.8883\\nTrain score of bestmodel:\\n0.9963 \\nTest score of best model: 0.9020 \\n\""
      ]
     },
     "execution_count": 2,
     "metadata": {},
     "output_type": "execute_result"
    }
   ],
   "source": [
    "'''\n",
    "Results \n",
    "Best Model parameters:\n",
    "StackingClassifier(final estimator=Logistic Regression,final_estimator__C= 0.1,stack_method='auto'}) and the following 5 estimators: \n",
    "1. Knn(n_neighbors=6)\n",
    "2. SVM(C=10,gamma=0.1,kernel='rbf')\n",
    "3. Random Forest(criterion='gini', max_depth=6, max_features='auto',n_estimators=100)\n",
    "4. Gradient Boost(learning_rate= 0.5, max_depth= 6, n_estimators=150)\n",
    "5. ExtraTrees(criterion='entropy', max_depth= 8, max_features='auto', n_estimators=50)\n",
    "Mean Cross validation score of Best model: 0.85\n",
    "Test score of best model: 0.8416804864566059 \n",
    "'''"
   ]
  },
  {
   "cell_type": "code",
   "execution_count": 3,
   "metadata": {},
   "outputs": [],
   "source": [
    "import pandas as pd\n",
    "import numpy as np\n",
    "import matplotlib.pyplot as plt\n",
    "import seaborn as sns"
   ]
  },
  {
   "cell_type": "code",
   "execution_count": 4,
   "metadata": {},
   "outputs": [],
   "source": [
    "columns = ['Age', 'Work Class', 'Final Weight', 'Education', 'Education Number', 'Marital Status', 'Occupation',\n",
    "          'Relationship', 'Race', 'Sex', 'Capital Gain', 'Capital Loss', 'Hours per Week', 'Country', 'Income']\n",
    "df = pd.read_csv('adult-training.csv', names= columns)"
   ]
  },
  {
   "cell_type": "code",
   "execution_count": 5,
   "metadata": {},
   "outputs": [
    {
     "name": "stdout",
     "output_type": "stream",
     "text": [
      "<class 'pandas.core.frame.DataFrame'>\n",
      "RangeIndex: 32561 entries, 0 to 32560\n",
      "Data columns (total 15 columns):\n",
      "Age                 32561 non-null int64\n",
      "Work Class          32561 non-null object\n",
      "Final Weight        32561 non-null int64\n",
      "Education           32561 non-null object\n",
      "Education Number    32561 non-null int64\n",
      "Marital Status      32561 non-null object\n",
      "Occupation          32561 non-null object\n",
      "Relationship        32561 non-null object\n",
      "Race                32561 non-null object\n",
      "Sex                 32561 non-null object\n",
      "Capital Gain        32561 non-null int64\n",
      "Capital Loss        32561 non-null int64\n",
      "Hours per Week      32561 non-null int64\n",
      "Country             32561 non-null object\n",
      "Income              32561 non-null object\n",
      "dtypes: int64(6), object(9)\n",
      "memory usage: 3.7+ MB\n"
     ]
    }
   ],
   "source": [
    "df.info()"
   ]
  },
  {
   "cell_type": "code",
   "execution_count": 6,
   "metadata": {},
   "outputs": [],
   "source": [
    "from sklearn.preprocessing import LabelEncoder\n",
    "labelEncoder = LabelEncoder()\n",
    "df['Income'] = labelEncoder.fit_transform(df['Income'])"
   ]
  },
  {
   "cell_type": "code",
   "execution_count": 7,
   "metadata": {
    "scrolled": true
   },
   "outputs": [
    {
     "name": "stdout",
     "output_type": "stream",
     "text": [
      "<class 'pandas.core.frame.DataFrame'>\n",
      "RangeIndex: 32561 entries, 0 to 32560\n",
      "Data columns (total 15 columns):\n",
      "Age                 32561 non-null int64\n",
      "Work Class          32561 non-null object\n",
      "Final Weight        32561 non-null int64\n",
      "Education           32561 non-null object\n",
      "Education Number    32561 non-null int64\n",
      "Marital Status      32561 non-null object\n",
      "Occupation          32561 non-null object\n",
      "Relationship        32561 non-null object\n",
      "Race                32561 non-null object\n",
      "Sex                 32561 non-null object\n",
      "Capital Gain        32561 non-null int64\n",
      "Capital Loss        32561 non-null int64\n",
      "Hours per Week      32561 non-null int64\n",
      "Country             32561 non-null object\n",
      "Income              32561 non-null int64\n",
      "dtypes: int64(7), object(8)\n",
      "memory usage: 3.7+ MB\n"
     ]
    }
   ],
   "source": [
    "df.info()"
   ]
  },
  {
   "cell_type": "code",
   "execution_count": 8,
   "metadata": {},
   "outputs": [
    {
     "data": {
      "text/plain": [
       "<matplotlib.axes._subplots.AxesSubplot at 0x1a1ab55e90>"
      ]
     },
     "execution_count": 8,
     "metadata": {},
     "output_type": "execute_result"
    },
    {
     "data": {
      "image/png": "[encoded data removed]",
      "text/plain": [
       "<Figure size 720x576 with 2 Axes>"
      ]
     },
     "metadata": {
      "needs_background": "light"
     },
     "output_type": "display_data"
    }
   ],
   "source": [
    "f,ax = plt.subplots(figsize=(10, 8))\n",
    "corr = df.corr()\n",
    "sns.heatmap(corr, mask=np.zeros_like(corr, dtype=np.bool), square=True, ax=ax )"
   ]
  },
  {
   "cell_type": "code",
   "execution_count": 9,
   "metadata": {},
   "outputs": [],
   "source": [
    "df['Age'] = pd.cut(df['Age'], bins = [0, 25, 50, 100], labels = ['Young', 'Adult', 'Old'])"
   ]
  },
  {
   "cell_type": "code",
   "execution_count": 10,
   "metadata": {
    "scrolled": true
   },
   "outputs": [
    {
     "data": {
      "text/plain": [
       "<matplotlib.axes._subplots.AxesSubplot at 0x1179744d0>"
      ]
     },
     "execution_count": 10,
     "metadata": {},
     "output_type": "execute_result"
    },
    {
     "data": {
      "image/png": "[encoded data removed]",
      "text/plain": [
       "<Figure size 432x288 with 1 Axes>"
      ]
     },
     "metadata": {
      "needs_background": "light"
     },
     "output_type": "display_data"
    }
   ],
   "source": [
    "sns.countplot(x = 'Age', hue = 'Income', data = df)"
   ]
  },
  {
   "cell_type": "code",
   "execution_count": 11,
   "metadata": {},
   "outputs": [],
   "source": [
    "df['Capital Diff'] = df['Capital Gain'] - df['Capital Loss']\n",
    "df.drop(['Capital Gain'], axis = 1, inplace = True)\n",
    "df.drop(['Capital Loss'], axis = 1, inplace = True)"
   ]
  },
  {
   "cell_type": "code",
   "execution_count": 12,
   "metadata": {},
   "outputs": [
    {
     "data": {
      "text/plain": [
       "<matplotlib.axes._subplots.AxesSubplot at 0x1071d3550>"
      ]
     },
     "execution_count": 12,
     "metadata": {},
     "output_type": "execute_result"
    },
    {
     "data": {
      "image/png": "[encoded data removed]",
      "text/plain": [
       "<Figure size 432x288 with 1 Axes>"
      ]
     },
     "metadata": {
      "needs_background": "light"
     },
     "output_type": "display_data"
    }
   ],
   "source": [
    "df['Capital Diff'] = pd.cut(df['Capital Diff'], bins = [-5000, 5000, 100000], labels = ['Minor', 'Major'])\n",
    "sns.countplot(x = 'Capital Diff', hue = 'Income', data = df)"
   ]
  },
  {
   "cell_type": "code",
   "execution_count": 13,
   "metadata": {},
   "outputs": [],
   "source": [
    "df.drop(['Final Weight'], axis = 1, inplace = True)"
   ]
  },
  {
   "cell_type": "code",
   "execution_count": 14,
   "metadata": {},
   "outputs": [],
   "source": [
    "df['Hours per Week'] = pd.cut(df['Hours per Week'],bins = [0, 30, 40, 100],labels = ['Lesser Hours', 'Normal Hours', 'Extra Hours'])"
   ]
  },
  {
   "cell_type": "code",
   "execution_count": 15,
   "metadata": {},
   "outputs": [],
   "source": [
    "df = df.drop(df[df['Work Class'] == ' ?'].index)\n",
    "df = df.drop(df[df['Work Class'] == ' Without-pay'].index)\n",
    "df = df.drop(df[df['Work Class'] == ' Never-worked'].index)"
   ]
  },
  {
   "cell_type": "code",
   "execution_count": 16,
   "metadata": {},
   "outputs": [
    {
     "data": {
      "text/plain": [
       " Husband           12700\n",
       " Not-in-family      7865\n",
       " Own-child          4520\n",
       " Unmarried          3269\n",
       " Wife               1432\n",
       " Other-relative      918\n",
       "Name: Relationship, dtype: int64"
      ]
     },
     "execution_count": 16,
     "metadata": {},
     "output_type": "execute_result"
    }
   ],
   "source": [
    "df['Relationship'].value_counts()"
   ]
  },
  {
   "cell_type": "code",
   "execution_count": 17,
   "metadata": {},
   "outputs": [
    {
     "data": {
      "text/plain": [
       " Married-civ-spouse       14331\n",
       " Never-married             9908\n",
       " Divorced                  4258\n",
       " Separated                  959\n",
       " Widowed                    839\n",
       " Married-spouse-absent      388\n",
       " Married-AF-spouse           21\n",
       "Name: Marital Status, dtype: int64"
      ]
     },
     "execution_count": 17,
     "metadata": {},
     "output_type": "execute_result"
    }
   ],
   "source": [
    "df['Marital Status'].value_counts()"
   ]
  },
  {
   "cell_type": "code",
   "execution_count": 18,
   "metadata": {},
   "outputs": [
    {
     "data": {
      "text/plain": [
       " HS-grad         9959\n",
       " Some-college    6772\n",
       " Bachelors       5182\n",
       " School          3820\n",
       " Masters         1675\n",
       " Assoc-voc       1321\n",
       " Assoc-acdm      1019\n",
       " Prof-school      558\n",
       " Doctorate        398\n",
       "Name: Education, dtype: int64"
      ]
     },
     "execution_count": 18,
     "metadata": {},
     "output_type": "execute_result"
    }
   ],
   "source": [
    "df.drop(['Education Number'], axis = 1, inplace = True)\n",
    "df['Education'].replace([' 11th', ' 9th', ' 7th-8th', ' 5th-6th', ' 10th', ' 1st-4th', ' Preschool', ' 12th'],' School', inplace = True)\n",
    "df['Education'].value_counts()"
   ]
  },
  {
   "cell_type": "code",
   "execution_count": 19,
   "metadata": {},
   "outputs": [],
   "source": [
    "df['Race'].unique()\n",
    "df['Race'].replace([' Black', ' Asian-Pac-Islander', ' Amer-Indian-Eskimo', ' Other'],' Other', inplace = True)"
   ]
  },
  {
   "cell_type": "code",
   "execution_count": 20,
   "metadata": {},
   "outputs": [
    {
     "data": {
      "text/plain": [
       " United-States                 27491\n",
       " Mexico                          610\n",
       " ?                               556\n",
       " Philippines                     187\n",
       " Germany                         128\n",
       " Puerto-Rico                     109\n",
       " Canada                          107\n",
       " India                           100\n",
       " El-Salvador                     100\n",
       " Cuba                             92\n",
       " England                          86\n",
       " Jamaica                          80\n",
       " South                            71\n",
       " Italy                            68\n",
       " China                            68\n",
       " Dominican-Republic               67\n",
       " Vietnam                          64\n",
       " Guatemala                        63\n",
       " Japan                            59\n",
       " Columbia                         56\n",
       " Poland                           56\n",
       " Haiti                            42\n",
       " Taiwan                           42\n",
       " Iran                             42\n",
       " Portugal                         34\n",
       " Nicaragua                        33\n",
       " Peru                             30\n",
       " Greece                           29\n",
       " France                           27\n",
       " Ecuador                          27\n",
       " Ireland                          24\n",
       " Hong                             19\n",
       " Trinadad&Tobago                  18\n",
       " Cambodia                         18\n",
       " Laos                             17\n",
       " Thailand                         17\n",
       " Yugoslavia                       16\n",
       " Outlying-US(Guam-USVI-etc)       14\n",
       " Hungary                          13\n",
       " Honduras                         12\n",
       " Scotland                         11\n",
       " Holand-Netherlands                1\n",
       "Name: Country, dtype: int64"
      ]
     },
     "execution_count": 20,
     "metadata": {},
     "output_type": "execute_result"
    }
   ],
   "source": [
    "df['Country'].value_counts()"
   ]
  },
  {
   "cell_type": "code",
   "execution_count": 21,
   "metadata": {},
   "outputs": [],
   "source": [
    "df = df.drop(df[df['Country'] == ' ?'].index)"
   ]
  },
  {
   "cell_type": "code",
   "execution_count": 22,
   "metadata": {},
   "outputs": [],
   "source": [
    "countries = np.array(df['Country'].unique())\n",
    "countries = np.delete(countries, 0)"
   ]
  },
  {
   "cell_type": "code",
   "execution_count": 23,
   "metadata": {},
   "outputs": [],
   "source": [
    "df['Country'].replace(countries, 'Other', inplace = True)"
   ]
  },
  {
   "cell_type": "code",
   "execution_count": 24,
   "metadata": {},
   "outputs": [
    {
     "name": "stdout",
     "output_type": "stream",
     "text": [
      "<class 'pandas.core.frame.DataFrame'>\n",
      "Int64Index: 30148 entries, 0 to 32560\n",
      "Data columns (total 12 columns):\n",
      "Age               30148 non-null category\n",
      "Work Class        30148 non-null object\n",
      "Education         30148 non-null object\n",
      "Marital Status    30148 non-null object\n",
      "Occupation        30148 non-null object\n",
      "Relationship      30148 non-null object\n",
      "Race              30148 non-null object\n",
      "Sex               30148 non-null object\n",
      "Hours per Week    30148 non-null category\n",
      "Country           30148 non-null object\n",
      "Income            30148 non-null int64\n",
      "Capital Diff      30148 non-null category\n",
      "dtypes: category(3), int64(1), object(8)\n",
      "memory usage: 2.4+ MB\n"
     ]
    }
   ],
   "source": [
    "df.info()"
   ]
  },
  {
   "cell_type": "code",
   "execution_count": 25,
   "metadata": {},
   "outputs": [
    {
     "data": {
      "text/plain": [
       "(30148, 56)"
      ]
     },
     "execution_count": 25,
     "metadata": {},
     "output_type": "execute_result"
    }
   ],
   "source": [
    "y = df['Income']\n",
    "X = df.drop(['Income'], axis = 1)\n",
    "X = pd.get_dummies(X)\n",
    "X.shape"
   ]
  },
  {
   "cell_type": "code",
   "execution_count": 26,
   "metadata": {},
   "outputs": [],
   "source": [
    "from sklearn.model_selection import train_test_split\n",
    "X_train, X_test, y_train, y_test = train_test_split(X, y, \n",
    "                                                    test_size = 0.3, \n",
    "                                                    random_state = 0)"
   ]
  },
  {
   "cell_type": "code",
   "execution_count": 27,
   "metadata": {},
   "outputs": [],
   "source": [
    "# Naive Bayes \n",
    "from sklearn.dummy import DummyClassifier\n",
    "from sklearn.metrics import accuracy_score\n",
    "from sklearn.model_selection import cross_val_score\n",
    "from sklearn.model_selection import GridSearchCV"
   ]
  },
  {
   "cell_type": "code",
   "execution_count": 28,
   "metadata": {},
   "outputs": [
    {
     "name": "stdout",
     "output_type": "stream",
     "text": [
      "Mean Cross-validation scores: 0.7506515717508148\n",
      "\n",
      "Naive Bayes Algorithm Accuracy Performance:  0.7516860143725815\n"
     ]
    }
   ],
   "source": [
    "model_dummy = DummyClassifier(strategy='most_frequent',random_state=123)\n",
    "model_dummy.fit(X_train,y_train)\n",
    "cv_scores = cross_val_score(model_dummy, X_train, y_train,scoring='accuracy')\n",
    "y_pred = model_dummy.predict(X_test)\n",
    "\n",
    "# Mean Cross validation Score\n",
    "print(\"Mean Cross-validation scores: {}\".format(cv_scores.mean()))\n",
    "print()\n",
    "\n",
    "#Accuracy Score\n",
    "print(\"Naive Bayes Algorithm Accuracy Performance: \", accuracy_score(y_test, y_pred))\n"
   ]
  },
  {
   "cell_type": "code",
   "execution_count": 29,
   "metadata": {},
   "outputs": [
    {
     "name": "stderr",
     "output_type": "stream",
     "text": [
      "/Users/ishadighe/opt/anaconda3/lib/python3.7/site-packages/sklearn/linear_model/_logistic.py:940: ConvergenceWarning: lbfgs failed to converge (status=1):\n",
      "STOP: TOTAL NO. of ITERATIONS REACHED LIMIT.\n",
      "\n",
      "Increase the number of iterations (max_iter) or scale the data as shown in:\n",
      "    https://scikit-learn.org/stable/modules/preprocessing.html\n",
      "Please also refer to the documentation for alternative solver options:\n",
      "    https://scikit-learn.org/stable/modules/linear_model.html#logistic-regression\n",
      "  extra_warning_msg=_LOGISTIC_SOLVER_CONVERGENCE_MSG)\n",
      "/Users/ishadighe/opt/anaconda3/lib/python3.7/site-packages/sklearn/linear_model/_logistic.py:940: ConvergenceWarning: lbfgs failed to converge (status=1):\n",
      "STOP: TOTAL NO. of ITERATIONS REACHED LIMIT.\n",
      "\n",
      "Increase the number of iterations (max_iter) or scale the data as shown in:\n",
      "    https://scikit-learn.org/stable/modules/preprocessing.html\n",
      "Please also refer to the documentation for alternative solver options:\n",
      "    https://scikit-learn.org/stable/modules/linear_model.html#logistic-regression\n",
      "  extra_warning_msg=_LOGISTIC_SOLVER_CONVERGENCE_MSG)\n",
      "/Users/ishadighe/opt/anaconda3/lib/python3.7/site-packages/sklearn/linear_model/_logistic.py:940: ConvergenceWarning: lbfgs failed to converge (status=1):\n",
      "STOP: TOTAL NO. of ITERATIONS REACHED LIMIT.\n",
      "\n",
      "Increase the number of iterations (max_iter) or scale the data as shown in:\n",
      "    https://scikit-learn.org/stable/modules/preprocessing.html\n",
      "Please also refer to the documentation for alternative solver options:\n",
      "    https://scikit-learn.org/stable/modules/linear_model.html#logistic-regression\n",
      "  extra_warning_msg=_LOGISTIC_SOLVER_CONVERGENCE_MSG)\n",
      "/Users/ishadighe/opt/anaconda3/lib/python3.7/site-packages/sklearn/linear_model/_logistic.py:940: ConvergenceWarning: lbfgs failed to converge (status=1):\n",
      "STOP: TOTAL NO. of ITERATIONS REACHED LIMIT.\n",
      "\n",
      "Increase the number of iterations (max_iter) or scale the data as shown in:\n",
      "    https://scikit-learn.org/stable/modules/preprocessing.html\n",
      "Please also refer to the documentation for alternative solver options:\n",
      "    https://scikit-learn.org/stable/modules/linear_model.html#logistic-regression\n",
      "  extra_warning_msg=_LOGISTIC_SOLVER_CONVERGENCE_MSG)\n",
      "/Users/ishadighe/opt/anaconda3/lib/python3.7/site-packages/sklearn/linear_model/_logistic.py:940: ConvergenceWarning: lbfgs failed to converge (status=1):\n",
      "STOP: TOTAL NO. of ITERATIONS REACHED LIMIT.\n",
      "\n",
      "Increase the number of iterations (max_iter) or scale the data as shown in:\n",
      "    https://scikit-learn.org/stable/modules/preprocessing.html\n",
      "Please also refer to the documentation for alternative solver options:\n",
      "    https://scikit-learn.org/stable/modules/linear_model.html#logistic-regression\n",
      "  extra_warning_msg=_LOGISTIC_SOLVER_CONVERGENCE_MSG)\n"
     ]
    },
    {
     "name": "stdout",
     "output_type": "stream",
     "text": [
      "Mean Cross-validation scores: 0.8467047407961322\n",
      "\n",
      "Logistic.coef_: [[-1.07691916e+00  3.14083517e-01  5.92505090e-01  5.73952369e-01\n",
      "  -1.96724450e-01 -8.50828893e-02  3.12674879e-01 -4.04599096e-01\n",
      "  -3.70551367e-01 -2.87551147e-01 -4.66210338e-01  2.68153464e-01\n",
      "   1.51479117e+00 -8.57257497e-01  7.11335954e-01  1.11985732e+00\n",
      "  -1.66212350e+00 -5.11325982e-01 -4.80779879e-01  1.36154669e+00\n",
      "   1.13658500e+00 -6.48083227e-01 -1.03069478e+00 -3.32415091e-01\n",
      "  -1.76489277e-01  1.38756670e-01 -1.19173170e-02  8.44346675e-02\n",
      "   8.61707426e-01 -8.02922449e-01 -6.30041815e-01 -2.51993355e-01\n",
      "  -7.61260720e-01 -1.16206928e+00  6.03300757e-01  6.74045506e-01\n",
      "   3.49412806e-01  7.34332438e-01  3.88410732e-03 -3.26782722e-03\n",
      "   2.24627843e-02 -4.00850488e-01 -9.48970657e-01 -1.98035884e-01\n",
      "   1.35833152e+00 -1.71352426e-01  1.02187126e-03 -4.67202272e-01\n",
      "   2.96871718e-01 -8.01180052e-01  7.32552012e-02  5.57594296e-01\n",
      "   1.33384649e-02 -1.83669019e-01 -1.74872728e+00  1.57839673e+00]]\n",
      "Logistic.intercept_: [-0.35484906]\n",
      "Logistic Regression Accuracy Performance:  0.8446655610834716\n"
     ]
    },
    {
     "name": "stderr",
     "output_type": "stream",
     "text": [
      "/Users/ishadighe/opt/anaconda3/lib/python3.7/site-packages/sklearn/linear_model/_logistic.py:940: ConvergenceWarning: lbfgs failed to converge (status=1):\n",
      "STOP: TOTAL NO. of ITERATIONS REACHED LIMIT.\n",
      "\n",
      "Increase the number of iterations (max_iter) or scale the data as shown in:\n",
      "    https://scikit-learn.org/stable/modules/preprocessing.html\n",
      "Please also refer to the documentation for alternative solver options:\n",
      "    https://scikit-learn.org/stable/modules/linear_model.html#logistic-regression\n",
      "  extra_warning_msg=_LOGISTIC_SOLVER_CONVERGENCE_MSG)\n"
     ]
    }
   ],
   "source": [
    "#Logistic Regression\n",
    "from sklearn.linear_model import LogisticRegression\n",
    "from sklearn.model_selection import cross_val_score\n",
    "\n",
    "clf = LogisticRegression().fit(X_train, y_train)\n",
    "cv_scores = cross_val_score(clf, X_train, y_train,scoring='accuracy')\n",
    "y_pred = clf.predict(X_test)\n",
    "\n",
    "# Mean Cross validation Score\n",
    "print(\"Mean Cross-validation scores: {}\".format(cv_scores.mean()))\n",
    "print()\n",
    "\n",
    "# Print Co-efficients\n",
    "print(\"Logistic.coef_:\", clf.coef_)\n",
    "print(\"Logistic.intercept_:\", clf.intercept_)\n",
    "\n",
    "#Accuracy Score\n",
    "print(\"Logistic Regression Accuracy Performance: \", accuracy_score(y_test, y_pred))"
   ]
  },
  {
   "cell_type": "code",
   "execution_count": 30,
   "metadata": {},
   "outputs": [
    {
     "name": "stdout",
     "output_type": "stream",
     "text": [
      "Best Mean Cross-validation score: 0.84\n",
      "\n",
      "Decision Tree parameters:  {'max_depth': 6}\n",
      "Decision Tree Train Performance:  0.8414443444060086\n",
      "Decision Tree Test Performance:  0.82808181315644\n",
      "Decision Tree Accuracy Performance:  0.82808181315644\n"
     ]
    }
   ],
   "source": [
    "#Decision Tree\n",
    "from sklearn.model_selection import GridSearchCV\n",
    "from sklearn.tree import DecisionTreeClassifier\n",
    "dtree = DecisionTreeClassifier(random_state=0)\n",
    "\n",
    "#Parameters\n",
    "param_dtree = {'max_depth': range(1,7)}\n",
    "\n",
    "#Grid Search\n",
    "grid_dtree = GridSearchCV(dtree, param_dtree, cv=5, return_train_score = True, scoring = 'accuracy')\n",
    "grid_dtree.fit(X_train, y_train)\n",
    "y_pred = grid_dtree.predict(X_test)\n",
    "\n",
    "# Mean Cross Validation Score\n",
    "print(\"Best Mean Cross-validation score: {:.2f}\".format(grid_dtree.best_score_))\n",
    "print()\n",
    "\n",
    "#Find the Best Parameters\n",
    "print('Decision Tree parameters: ', grid_dtree.best_params_)\n",
    "\n",
    "# Train and Test Data Performance\n",
    "print(\"Decision Tree Train Performance: \", grid_dtree.score(X_train,y_train))\n",
    "print(\"Decision Tree Test Performance: \", grid_dtree.score(X_test,y_test))\n",
    "\n",
    "#Accuracy Score\n",
    "print(\"Decision Tree Accuracy Performance: \", accuracy_score(y_test, y_pred))"
   ]
  },
  {
   "cell_type": "code",
   "execution_count": 31,
   "metadata": {},
   "outputs": [
    {
     "name": "stdout",
     "output_type": "stream",
     "text": [
      "Best Mean Cross-validation score: 0.83\n",
      "\n",
      "KNN parameters:  {'n_neighbors': 9}\n",
      "KNN Test Performance:  0.8286346047540077\n",
      "Knn Accuracy Performance:  0.8286346047540077\n"
     ]
    }
   ],
   "source": [
    "#Knn\n",
    "from sklearn.model_selection import GridSearchCV\n",
    "from sklearn.neighbors import KNeighborsClassifier\n",
    "\n",
    "knn = KNeighborsClassifier()\n",
    "\n",
    "#Parameters\n",
    "\n",
    "param_knn = {'n_neighbors': range(5,10)}\n",
    "\n",
    "#Grid Search\n",
    "grid_knn = GridSearchCV(knn, param_knn, cv=5, return_train_score=True, scoring='accuracy')\n",
    "grid_knn.fit(X_train, y_train)\n",
    "y_pred = grid_knn.predict(X_test)\n",
    "\n",
    "# Mean Cross Validation Score\n",
    "print(\"Best Mean Cross-validation score: {:.2f}\".format(grid_knn.best_score_))\n",
    "print()\n",
    "\n",
    "#Find the Best Parameters\n",
    "print('KNN parameters: ', grid_knn.best_params_)\n",
    "\n",
    "#Train and Test Data Performanec\n",
    "print(\"KNN Test Performance: \", grid_knn.score(X_test,y_test))\n",
    "\n",
    "#Accuracy Score\n",
    "print(\"Knn Accuracy Performance: \", accuracy_score(y_test, y_pred))"
   ]
  },
  {
   "cell_type": "code",
   "execution_count": 32,
   "metadata": {},
   "outputs": [
    {
     "name": "stdout",
     "output_type": "stream",
     "text": [
      "Best Mean Cross-validation score: 0.85\n",
      "\n",
      "SVM parameters:  {'C': 1, 'gamma': 0.1, 'kernel': 'rbf'}\n",
      "SVM Test Performance:  0.8432283029297954\n",
      "SVM Accuracy Performance:  0.8432283029297954\n"
     ]
    }
   ],
   "source": [
    "#SVM\n",
    "from sklearn import svm\n",
    "\n",
    "model_svm = svm.SVC(random_state=0)\n",
    "\n",
    "C = [0.1, 1, 10]\n",
    "\n",
    "param_svm = [{'kernel': ['rbf'],\n",
    "               'C': C,\n",
    "               'gamma': [0.01, 0.1, 1]},\n",
    "              {'kernel': ['linear'],\n",
    "               'C': C}]\n",
    "\n",
    "grid_svm = GridSearchCV(model_svm, param_svm, cv=5,\n",
    "                          return_train_score=True,scoring = 'accuracy')\n",
    "grid_svm.fit(X_train, y_train)\n",
    "y_pred = grid_svm.predict(X_test)\n",
    "\n",
    "# Mean Cross Validation Score\n",
    "print(\"Best Mean Cross-validation score: {:.2f}\".format(grid_svm.best_score_))\n",
    "print()\n",
    "\n",
    "#Find the Best Parameters\n",
    "print('SVM parameters: ', grid_svm.best_params_)\n",
    "\n",
    "#Train and Test Data Performance\n",
    "print(\"SVM Test Performance: \", grid_svm.score(X_test,y_test))\n",
    "\n",
    "#Accuracy Score\n",
    "print(\"SVM Accuracy Performance: \", accuracy_score(y_test, y_pred))"
   ]
  },
  {
   "cell_type": "code",
   "execution_count": 33,
   "metadata": {},
   "outputs": [
    {
     "name": "stdout",
     "output_type": "stream",
     "text": [
      "Best Mean Cross-validation score: 0.84\n",
      "\n",
      "Random Forest parameters:  {'criterion': 'entropy', 'max_depth': 6, 'max_features': 'auto', 'n_estimators': 100}\n",
      "Random Forest Test Performance:  0.8354892205638474\n",
      "Random Forest Accuracy Performance:  0.8354892205638474\n"
     ]
    }
   ],
   "source": [
    "#Random Forest\n",
    "from sklearn.ensemble import RandomForestClassifier\n",
    "rfc =RandomForestClassifier(random_state=0)\n",
    "rfc_param = { \n",
    "    'n_estimators': [50, 100],\n",
    "    'max_features': ['auto', 'sqrt', 'log2'],\n",
    "    'max_depth' : [4,5,6],\n",
    "    'criterion' :['gini', 'entropy']\n",
    "}\n",
    "\n",
    "grid_rf = GridSearchCV(rfc, rfc_param,cv=5, return_train_score=True, scoring = 'accuracy')\n",
    "grid_rf.fit(X_train,y_train)\n",
    "y_pred = grid_rf.predict(X_test)\n",
    "\n",
    "# Mean Cross Validation Score\n",
    "print(\"Best Mean Cross-validation score: {:.2f}\".format(grid_rf.best_score_))\n",
    "print()\n",
    "\n",
    "#Find the Best Parameters\n",
    "print('Random Forest parameters: ', grid_rf.best_params_)\n",
    "\n",
    "#Train and Test Data Performance\n",
    "print(\"Random Forest Test Performance: \", grid_rf.score(X_test,y_test))\n",
    "\n",
    "#Accuracy Score\n",
    "print(\"Random Forest Accuracy Performance: \", accuracy_score(y_test, y_pred))"
   ]
  },
  {
   "cell_type": "code",
   "execution_count": 34,
   "metadata": {},
   "outputs": [
    {
     "name": "stdout",
     "output_type": "stream",
     "text": [
      "Best Mean Cross-validation score: 0.85\n",
      "\n",
      "Extra Trees parameters:  {'criterion': 'entropy', 'max_depth': 8, 'max_features': 'auto', 'n_estimators': 100}\n",
      "Extra Trees Test Performance:  0.8411276948590382\n",
      "Extra Trees Accuracy Performance:  0.8411276948590382\n"
     ]
    }
   ],
   "source": [
    "#Extra Trees\n",
    "from sklearn.ensemble import ExtraTreesClassifier\n",
    "\n",
    "etc= ExtraTreesClassifier(random_state=42)\n",
    "etc_param = { \n",
    "    'n_estimators': [50,100],\n",
    "    'max_features': ['auto', 'sqrt', 'log2'],\n",
    "    'max_depth' : [5,6,7,8],\n",
    "    'criterion' :['gini', 'entropy']\n",
    "}\n",
    "grid_et = GridSearchCV(etc, etc_param,cv=5, return_train_score=True,scoring = 'accuracy' )\n",
    "grid_et.fit(X_train,y_train)\n",
    "y_pred = grid_et.predict(X_test)\n",
    "\n",
    "# Mean Cross Validation Score\n",
    "print(\"Best Mean Cross-validation score: {:.2f}\".format(grid_et.best_score_))\n",
    "print()\n",
    "\n",
    "#Find the Best Parameters\n",
    "print('Extra Trees parameters: ', grid_et.best_params_)\n",
    "\n",
    "#Train and Test Data Performance\n",
    "print(\"Extra Trees Test Performance: \", grid_et.score(X_test,y_test))\n",
    "\n",
    "#Accuracy Score\n",
    "print(\"Extra Trees Accuracy Performance: \", accuracy_score(y_test, y_pred))"
   ]
  },
  {
   "cell_type": "code",
   "execution_count": 35,
   "metadata": {
    "scrolled": true
   },
   "outputs": [
    {
     "name": "stdout",
     "output_type": "stream",
     "text": [
      "Best Mean Cross-validation score: 0.85\n",
      "\n",
      "Gradient Boost parameters:  {'learning_rate': 0.5, 'max_depth': 4, 'n_estimators': 100}\n",
      "Gradient Boost Test Performance:  0.8403537866224433\n",
      "Gradient Boost Accuracy Performance:  0.8403537866224433\n"
     ]
    }
   ],
   "source": [
    "#Gradient Boost\n",
    "from sklearn.ensemble import GradientBoostingClassifier\n",
    "gbc= GradientBoostingClassifier(random_state=42)\n",
    "gbc_param = {\n",
    "              'max_depth' : [4,5,6],\n",
    "              'n_estimators' : [100,150],\n",
    "              'learning_rate' : [0.5,1.0,2],\n",
    "             }\n",
    "grid_gb = GridSearchCV(gbc, gbc_param,cv=5, return_train_score=True,scoring = 'accuracy' )\n",
    "grid_gb.fit(X_train,y_train)\n",
    "y_pred = grid_gb.predict(X_test)\n",
    "\n",
    "# Mean Cross Validation Score\n",
    "print(\"Best Mean Cross-validation score: {:.2f}\".format(grid_gb.best_score_))\n",
    "print()\n",
    "\n",
    "#Find the Best Parameters\n",
    "print(\"Gradient Boost parameters: \", grid_gb.best_params_)\n",
    "\n",
    "#Train and Test Data Performance\n",
    "print(\"Gradient Boost Test Performance: \", grid_gb.score(X_test,y_test))\n",
    "\n",
    "#Accuracy Score\n",
    "print(\"Gradient Boost Accuracy Performance: \", accuracy_score(y_test, y_pred))"
   ]
  },
  {
   "cell_type": "code",
   "execution_count": null,
   "metadata": {},
   "outputs": [],
   "source": [
    "#XGBoost\n",
    "from  xgboost import XGBClassifier\n",
    "xgbc= XGBClassifier(random_state=42,early_stopping_rounds=2,objective= 'binary:logistic')\n",
    "xgbc_param = {\n",
    "              'max_depth' : [4,5,6],\n",
    "              'n_estimators' : [100,150],\n",
    "              'learning_rate' : [0.1,0.5,0.8],\n",
    "               'min_child_weight' : [1,3,5],\n",
    "                'subsample':[0.6,0.8,1]\n",
    "             }\n",
    "grid_xgb = GridSearchCV(xgbc, xgbc_param,cv=5, return_train_score=True,scoring = 'accuracy' )\n",
    "grid_xgb.fit(X_train,y_train)\n",
    "y_pred = grid_xgb.predict(X_test)\n",
    "\n",
    "# Mean Cross Validation Score\n",
    "print(\"Best Mean Cross-validation score: {:.2f}\".format(grid_xgb.best_score_))\n",
    "print()\n",
    "\n",
    "#Find the Best Parameters\n",
    "print('XGBoost parameters: ', grid_xgb.best_params_)\n",
    "\n",
    "#Train and Test Data Performance\n",
    "print(\"XGBoost Test Performance: \", grid_xgb.score(X_test,y_test))\n",
    "\n",
    "#Accuracy Score\n",
    "print(\"XGBoost Accuracy Performance: \", accuracy_score(y_test, y_pred))"
   ]
  },
  {
   "cell_type": "code",
   "execution_count": 36,
   "metadata": {
    "scrolled": true
   },
   "outputs": [],
   "source": [
    "#Top 5 Estimators\n",
    "estimators_ = [('knn',grid_knn.best_estimator_),\n",
    "               ('svm',grid_svm.best_estimator_),\n",
    "            ('rf',grid_rf.best_estimator_),\n",
    "               ('gb',grid_gb.best_estimator_),\n",
    "            ('et',grid_et.best_estimator_)]"
   ]
  },
  {
   "cell_type": "code",
   "execution_count": 37,
   "metadata": {},
   "outputs": [
    {
     "name": "stdout",
     "output_type": "stream",
     "text": [
      "Requirement already up-to-date: scikit-learn in /Users/ishadighe/opt/anaconda3/lib/python3.7/site-packages (0.22.2.post1)\n",
      "Requirement already satisfied, skipping upgrade: joblib>=0.11 in /Users/ishadighe/opt/anaconda3/lib/python3.7/site-packages (from scikit-learn) (0.13.2)\n",
      "Requirement already satisfied, skipping upgrade: numpy>=1.11.0 in /Users/ishadighe/opt/anaconda3/lib/python3.7/site-packages (from scikit-learn) (1.17.2)\n",
      "Requirement already satisfied, skipping upgrade: scipy>=0.17.0 in /Users/ishadighe/opt/anaconda3/lib/python3.7/site-packages (from scikit-learn) (1.3.1)\n",
      "Note: you may need to restart the kernel to use updated packages.\n"
     ]
    }
   ],
   "source": [
    "#pip install --upgrade scikit-learn"
   ]
  },
  {
   "cell_type": "code",
   "execution_count": 38,
   "metadata": {},
   "outputs": [],
   "source": [
    "from sklearn.ensemble import StackingClassifier"
   ]
  },
  {
   "cell_type": "code",
   "execution_count": 39,
   "metadata": {},
   "outputs": [
    {
     "name": "stderr",
     "output_type": "stream",
     "text": [
      "/Users/ishadighe/opt/anaconda3/lib/python3.7/site-packages/sklearn/model_selection/_validation.py:536: FitFailedWarning: Estimator fit failed. The score on this train-test partition for these parameters will be set to nan. Details: \n",
      "ValueError: Underlying estimator svm does not implement the method predict_proba.\n",
      "\n",
      "  FitFailedWarning)\n",
      "/Users/ishadighe/opt/anaconda3/lib/python3.7/site-packages/sklearn/model_selection/_validation.py:536: FitFailedWarning: Estimator fit failed. The score on this train-test partition for these parameters will be set to nan. Details: \n",
      "ValueError: Underlying estimator svm does not implement the method predict_proba.\n",
      "\n",
      "  FitFailedWarning)\n",
      "/Users/ishadighe/opt/anaconda3/lib/python3.7/site-packages/sklearn/model_selection/_validation.py:536: FitFailedWarning: Estimator fit failed. The score on this train-test partition for these parameters will be set to nan. Details: \n",
      "ValueError: Underlying estimator svm does not implement the method predict_proba.\n",
      "\n",
      "  FitFailedWarning)\n",
      "/Users/ishadighe/opt/anaconda3/lib/python3.7/site-packages/sklearn/model_selection/_validation.py:536: FitFailedWarning: Estimator fit failed. The score on this train-test partition for these parameters will be set to nan. Details: \n",
      "ValueError: Underlying estimator svm does not implement the method predict_proba.\n",
      "\n",
      "  FitFailedWarning)\n",
      "/Users/ishadighe/opt/anaconda3/lib/python3.7/site-packages/sklearn/model_selection/_validation.py:536: FitFailedWarning: Estimator fit failed. The score on this train-test partition for these parameters will be set to nan. Details: \n",
      "ValueError: Underlying estimator svm does not implement the method predict_proba.\n",
      "\n",
      "  FitFailedWarning)\n",
      "/Users/ishadighe/opt/anaconda3/lib/python3.7/site-packages/sklearn/model_selection/_validation.py:536: FitFailedWarning: Estimator fit failed. The score on this train-test partition for these parameters will be set to nan. Details: \n",
      "ValueError: Underlying estimator svm does not implement the method predict_proba.\n",
      "\n",
      "  FitFailedWarning)\n",
      "/Users/ishadighe/opt/anaconda3/lib/python3.7/site-packages/sklearn/model_selection/_validation.py:536: FitFailedWarning: Estimator fit failed. The score on this train-test partition for these parameters will be set to nan. Details: \n",
      "ValueError: Underlying estimator svm does not implement the method predict_proba.\n",
      "\n",
      "  FitFailedWarning)\n",
      "/Users/ishadighe/opt/anaconda3/lib/python3.7/site-packages/sklearn/model_selection/_validation.py:536: FitFailedWarning: Estimator fit failed. The score on this train-test partition for these parameters will be set to nan. Details: \n",
      "ValueError: Underlying estimator svm does not implement the method predict_proba.\n",
      "\n",
      "  FitFailedWarning)\n",
      "/Users/ishadighe/opt/anaconda3/lib/python3.7/site-packages/sklearn/model_selection/_validation.py:536: FitFailedWarning: Estimator fit failed. The score on this train-test partition for these parameters will be set to nan. Details: \n",
      "ValueError: Underlying estimator svm does not implement the method predict_proba.\n",
      "\n",
      "  FitFailedWarning)\n",
      "/Users/ishadighe/opt/anaconda3/lib/python3.7/site-packages/sklearn/model_selection/_validation.py:536: FitFailedWarning: Estimator fit failed. The score on this train-test partition for these parameters will be set to nan. Details: \n",
      "ValueError: Underlying estimator svm does not implement the method predict_proba.\n",
      "\n",
      "  FitFailedWarning)\n"
     ]
    },
    {
     "name": "stdout",
     "output_type": "stream",
     "text": [
      "Best Mean Cross-validation score: 0.85\n",
      "\n",
      "Stacking Classifier parameters:  {'final_estimator__C': 0.1, 'stack_method': 'auto'}\n",
      "Stacking Classifier Test Performance:  0.8416804864566059\n",
      "Stacking Classifier Accuracy Performance:  0.8416804864566059\n"
     ]
    }
   ],
   "source": [
    "#Stacking Classifers\n",
    "from sklearn.ensemble import StackingClassifier\n",
    "sclf1 = StackingClassifier(estimators= estimators_\n",
    "                            , final_estimator=LogisticRegression())\n",
    "sclf1_param = {\n",
    "              'final_estimator__C' : [0.1,0.2],\n",
    "              'stack_method':['auto', 'predict_proba']\n",
    "             }\n",
    "grid_sclf1 = GridSearchCV(sclf1, sclf1_param,cv=5, return_train_score=True,scoring='accuracy' )\n",
    "grid_sclf1.fit(X_train,y_train)\n",
    "y_pred = grid_sclf1.predict(X_test)\n",
    "\n",
    "# Mean Cross Validation Score\n",
    "print(\"Best Mean Cross-validation score: {:.2f}\".format(grid_sclf1.best_score_))\n",
    "print()\n",
    "\n",
    "#Find the Best Parameters\n",
    "print('Stacking Classifier parameters: ', grid_sclf1.best_params_)\n",
    "\n",
    "#Train and Test Data Performance\n",
    "print(\"Stacking Classifier Test Performance: \", grid_sclf1.score(X_test,y_test))\n",
    "\n",
    "#Accuracy Score\n",
    "print(\"Stacking Classifier Accuracy Performance: \", accuracy_score(y_test, y_pred))"
   ]
  },
  {
   "cell_type": "code",
   "execution_count": 40,
   "metadata": {},
   "outputs": [
    {
     "name": "stdout",
     "output_type": "stream",
     "text": [
      "Best Mean Cross-validation score: 0.85\n",
      "\n",
      "Logistic Regression parameters:  {'class_weight': {0: 1, 1: 1}}\n",
      "Logistic Regression Test Performance:  0.8446655610834716\n",
      "Logistic Regression Accuracy Performance:  0.8446655610834716\n"
     ]
    },
    {
     "name": "stderr",
     "output_type": "stream",
     "text": [
      "/Users/ishadighe/opt/anaconda3/lib/python3.7/site-packages/sklearn/linear_model/_logistic.py:940: ConvergenceWarning: lbfgs failed to converge (status=1):\n",
      "STOP: TOTAL NO. of ITERATIONS REACHED LIMIT.\n",
      "\n",
      "Increase the number of iterations (max_iter) or scale the data as shown in:\n",
      "    https://scikit-learn.org/stable/modules/preprocessing.html\n",
      "Please also refer to the documentation for alternative solver options:\n",
      "    https://scikit-learn.org/stable/modules/linear_model.html#logistic-regression\n",
      "  extra_warning_msg=_LOGISTIC_SOLVER_CONVERGENCE_MSG)\n"
     ]
    }
   ],
   "source": [
    "#CS Logistic Regression\n",
    "param_grid = {   \n",
    "    'class_weight': [{0:100,1:1}, {0:10,1:1}, {0:1,1:1}, {0:1,1:10}, {0:1,1:100}],\n",
    "}\n",
    "#apply grid search\n",
    "cgrid_logreg= GridSearchCV(LogisticRegression(solver='lbfgs'), param_grid, cv=5, n_jobs=2, scoring='accuracy')\n",
    "cgrid_logreg.fit(X_train, y_train)\n",
    "y_pred = cgrid_logreg.predict(X_test)\n",
    "\n",
    "# Mean Cross Validation Score\n",
    "print(\"Best Mean Cross-validation score: {:.2f}\".format(cgrid_logreg.best_score_))\n",
    "print()\n",
    "\n",
    "#Find the Best Parameters\n",
    "print('Logistic Regression parameters: ', cgrid_logreg.best_params_)\n",
    "\n",
    "#Train and Test Data Performance\n",
    "print(\"Logistic Regression Test Performance: \", cgrid_logreg.score(X_test,y_test))\n",
    "\n",
    "#Accuracy Score\n",
    "print(\"Logistic Regression Accuracy Performance: \", accuracy_score(y_test, y_pred))"
   ]
  },
  {
   "cell_type": "code",
   "execution_count": 41,
   "metadata": {},
   "outputs": [
    {
     "name": "stdout",
     "output_type": "stream",
     "text": [
      "Best Mean Cross-validation score: 0.82\n",
      "\n",
      "Decision Tree Classifier parameters:  {'class_weight': {0: 1, 1: 1}}\n",
      "Decision Tree Classifier Test Performance:  0.8257600884466556\n",
      "Decision Tree Classifier Accuracy Performance:  0.8257600884466556\n"
     ]
    }
   ],
   "source": [
    "#CS Decision Tree\n",
    "param_grid = { \n",
    "    'class_weight': [{0:100,1:1}, {0:10,1:1}, {0:1,1:1}, {0:1,1:10}, {0:1,1:100}],\n",
    "}\n",
    "#apply grid search\n",
    "cgrid_dtree= GridSearchCV(DecisionTreeClassifier(), param_grid, cv=5, n_jobs=2, scoring='accuracy')\n",
    "cgrid_dtree.fit(X_train, y_train)\n",
    "y_pred = cgrid_dtree.predict(X_test)\n",
    "\n",
    "# Mean Cross Validation Score\n",
    "print(\"Best Mean Cross-validation score: {:.2f}\".format(cgrid_dtree.best_score_))\n",
    "print()\n",
    "\n",
    "#Find the Best Parameters\n",
    "print('Decision Tree Classifier parameters: ', cgrid_dtree.best_params_)\n",
    "\n",
    "#Train and Test Data Performance\n",
    "print(\"Decision Tree Classifier Test Performance: \", cgrid_dtree.score(X_test,y_test))\n",
    "\n",
    "#Accuracy Score\n",
    "print(\"Decision Tree Classifier Accuracy Performance: \", accuracy_score(y_test, y_pred))"
   ]
  },
  {
   "cell_type": "code",
   "execution_count": 42,
   "metadata": {},
   "outputs": [
    {
     "name": "stdout",
     "output_type": "stream",
     "text": [
      "Best Mean Cross-validation score: 0.85\n",
      "\n",
      "SVC parameters:  {'class_weight': {0: 1, 1: 1}}\n",
      "SVC Test Performance:  0.8436705362078496\n",
      "SVC Accuracy Performance:  0.8436705362078496\n"
     ]
    }
   ],
   "source": [
    "#CS SVC\n",
    "param_grid = {\n",
    "    'class_weight': [{0:100,1:1}, {0:10,1:1}, {0:1,1:1}, {0:1,1:10}, {0:1,1:100}],\n",
    "}\n",
    "#apply grid search\n",
    "cgrid_svc= GridSearchCV(svm.SVC(), param_grid, cv=5, n_jobs=2, scoring='accuracy')\n",
    "cgrid_svc.fit(X_train, y_train)\n",
    "y_pred = cgrid_svc.predict(X_test)\n",
    "\n",
    "# Mean Cross Validation Score\n",
    "print(\"Best Mean Cross-validation score: {:.2f}\".format(cgrid_svc.best_score_))\n",
    "print()\n",
    "\n",
    "#Find the Best Parameters\n",
    "print('SVC parameters: ', cgrid_svc.best_params_)\n",
    "\n",
    "#Train and Test Data Performance\n",
    "print(\"SVC Test Performance: \", cgrid_svc.score(X_test,y_test))\n",
    "\n",
    "#Accuracy Score\n",
    "print(\"SVC Accuracy Performance: \", accuracy_score(y_test, y_pred))"
   ]
  },
  {
   "cell_type": "code",
   "execution_count": 43,
   "metadata": {},
   "outputs": [
    {
     "name": "stdout",
     "output_type": "stream",
     "text": [
      "Random Forest Mean Accuracy Score: 0.807\n"
     ]
    }
   ],
   "source": [
    "#CS Random Forest\n",
    "from sklearn.model_selection import RepeatedStratifiedKFold\n",
    "rf = RandomForestClassifier(n_estimators=100, class_weight='balanced')\n",
    "\n",
    "cv = RepeatedStratifiedKFold(n_splits=10, n_repeats=3, random_state=1)\n",
    "\n",
    "scores = cross_val_score(rf, X_train, y_train, scoring='accuracy', cv=cv, n_jobs=-1)\n",
    "\n",
    "print('Random Forest Mean Accuracy Score: %.3f' % scores.mean())"
   ]
  },
  {
   "cell_type": "code",
   "execution_count": null,
   "metadata": {},
   "outputs": [],
   "source": [
    "#CS XGBoost\n",
    "param_grid = { \n",
    "    'scale_pos_weight': [1, 10, 25, 50, 75, 99, 100, 1000],\n",
    "}\n",
    "#apply grid search\n",
    "cgrid_xgb= GridSearchCV(XGBClassifier(), param_grid, cv=5, n_jobs=2, scoring='accuracy')\n",
    "cgrid_xgb.fit(X_train, y_train)\n",
    "y_pred = cgrid_xgb.predict(X_test)\n",
    "\n",
    "# Mean Cross Validation Score\n",
    "print(\"Best Mean Cross-validation score: {:.2f}\".format(cgrid_xgb.best_score_))\n",
    "print()\n",
    "\n",
    "#Find the Best Parameters\n",
    "print('XGBoost parameters: ', cgrid_xgb.best_params_)\n",
    "\n",
    "#Train and Test Data Performance\n",
    "print(\"XGBoost Test Performance: \", cgrid_xgb.score(X_test,y_test))\n",
    "\n",
    "#Accuracy Score\n",
    "print(\"XGBoost Accuracy Performance: \", accuracy_score(y_test, y_pred))"
   ]
  },
  {
   "cell_type": "code",
   "execution_count": 44,
   "metadata": {},
   "outputs": [
    {
     "name": "stdout",
     "output_type": "stream",
     "text": [
      "Extra Trees Mean Accuracy: 0.795\n"
     ]
    }
   ],
   "source": [
    "#CS Extra Trees\n",
    "rf = ExtraTreesClassifier(n_estimators=50, class_weight='balanced')\n",
    "\n",
    "cv = RepeatedStratifiedKFold(n_splits=10, n_repeats=3, random_state=1)\n",
    "\n",
    "scores = cross_val_score(rf, X_train, y_train, scoring='accuracy', cv=cv, n_jobs=-1)\n",
    "\n",
    "print('Extra Trees Mean Accuracy: %.3f' % scores.mean())"
   ]
  },
  {
   "cell_type": "code",
   "execution_count": 46,
   "metadata": {},
   "outputs": [
    {
     "name": "stdout",
     "output_type": "stream",
     "text": [
      "Collecting package metadata (current_repodata.json): done\n",
      "Solving environment: failed with initial frozen solve. Retrying with flexible solve.\n",
      "Solving environment: failed with repodata from current_repodata.json, will retry with next repodata source.\n",
      "Collecting package metadata (repodata.json): done\n",
      "Solving environment: done\n",
      "\n",
      "\n",
      "==> WARNING: A newer version of conda exists. <==\n",
      "  current version: 4.7.12\n",
      "  latest version: 4.8.3\n",
      "\n",
      "Please update conda by running\n",
      "\n",
      "    $ conda update -n base -c defaults conda\n",
      "\n",
      "\n",
      "\n",
      "## Package Plan ##\n",
      "\n",
      "  environment location: /Users/ishadighe/opt/anaconda3\n",
      "\n",
      "  added / updated specs:\n",
      "    - imbalanced-learn\n",
      "\n",
      "\n",
      "The following packages will be downloaded:\n",
      "\n",
      "    package                    |            build\n",
      "    ---------------------------|-----------------\n",
      "    certifi-2019.9.11          |           py37_0         147 KB  conda-forge\n",
      "    conda-4.8.3                |   py37hc8dfbb8_1         3.0 MB  conda-forge\n",
      "    imbalanced-learn-0.5.0     |             py_0          98 KB  conda-forge\n",
      "    python_abi-3.7             |          1_cp37m           4 KB  conda-forge\n",
      "    ------------------------------------------------------------\n",
      "                                           Total:         3.3 MB\n",
      "\n",
      "The following NEW packages will be INSTALLED:\n",
      "\n",
      "  imbalanced-learn   conda-forge/noarch::imbalanced-learn-0.5.0-py_0\n",
      "  python_abi         conda-forge/osx-64::python_abi-3.7-1_cp37m\n",
      "\n",
      "The following packages will be UPDATED:\n",
      "\n",
      "  conda                      pkgs/main::conda-4.7.12-py37_0 --> conda-forge::conda-4.8.3-py37hc8dfbb8_1\n",
      "\n",
      "The following packages will be SUPERSEDED by a higher-priority channel:\n",
      "\n",
      "  certifi                                         pkgs/main --> conda-forge\n",
      "\n",
      "\n",
      "\n",
      "Downloading and Extracting Packages\n",
      "conda-4.8.3          | 3.0 MB    | ##################################### | 100% \n",
      "certifi-2019.9.11    | 147 KB    | ##################################### | 100% \n",
      "imbalanced-learn-0.5 | 98 KB     | ##################################### | 100% \n",
      "python_abi-3.7       | 4 KB      | ##################################### | 100% \n",
      "Preparing transaction: done\n",
      "Verifying transaction: done\n",
      "Executing transaction: done\n",
      "\n",
      "Note: you may need to restart the kernel to use updated packages.\n"
     ]
    }
   ],
   "source": [
    "conda install -c conda-forge imbalanced-learn"
   ]
  },
  {
   "cell_type": "code",
   "execution_count": 47,
   "metadata": {},
   "outputs": [
    {
     "name": "stderr",
     "output_type": "stream",
     "text": [
      "/Users/ishadighe/opt/anaconda3/lib/python3.7/site-packages/sklearn/utils/deprecation.py:144: FutureWarning: The sklearn.neighbors.base module is  deprecated in version 0.22 and will be removed in version 0.24. The corresponding classes / functions should instead be imported from sklearn.neighbors. Anything that cannot be imported from sklearn.neighbors is now part of the private API.\n",
      "  warnings.warn(message, FutureWarning)\n",
      "/Users/ishadighe/opt/anaconda3/lib/python3.7/site-packages/sklearn/utils/deprecation.py:144: FutureWarning: The sklearn.ensemble.bagging module is  deprecated in version 0.22 and will be removed in version 0.24. The corresponding classes / functions should instead be imported from sklearn.ensemble. Anything that cannot be imported from sklearn.ensemble is now part of the private API.\n",
      "  warnings.warn(message, FutureWarning)\n",
      "/Users/ishadighe/opt/anaconda3/lib/python3.7/site-packages/sklearn/utils/deprecation.py:144: FutureWarning: The sklearn.ensemble.base module is  deprecated in version 0.22 and will be removed in version 0.24. The corresponding classes / functions should instead be imported from sklearn.ensemble. Anything that cannot be imported from sklearn.ensemble is now part of the private API.\n",
      "  warnings.warn(message, FutureWarning)\n",
      "/Users/ishadighe/opt/anaconda3/lib/python3.7/site-packages/sklearn/utils/deprecation.py:144: FutureWarning: The sklearn.ensemble.forest module is  deprecated in version 0.22 and will be removed in version 0.24. The corresponding classes / functions should instead be imported from sklearn.ensemble. Anything that cannot be imported from sklearn.ensemble is now part of the private API.\n",
      "  warnings.warn(message, FutureWarning)\n",
      "/Users/ishadighe/opt/anaconda3/lib/python3.7/site-packages/sklearn/utils/deprecation.py:144: FutureWarning: The sklearn.utils.testing module is  deprecated in version 0.22 and will be removed in version 0.24. The corresponding classes / functions should instead be imported from sklearn.utils. Anything that cannot be imported from sklearn.utils is now part of the private API.\n",
      "  warnings.warn(message, FutureWarning)\n",
      "/Users/ishadighe/opt/anaconda3/lib/python3.7/site-packages/sklearn/utils/deprecation.py:144: FutureWarning: The sklearn.metrics.classification module is  deprecated in version 0.22 and will be removed in version 0.24. The corresponding classes / functions should instead be imported from sklearn.metrics. Anything that cannot be imported from sklearn.metrics is now part of the private API.\n",
      "  warnings.warn(message, FutureWarning)\n"
     ]
    },
    {
     "name": "stdout",
     "output_type": "stream",
     "text": [
      "Bagging Tree Mean Accuracy: 0.791\n"
     ]
    }
   ],
   "source": [
    "#Bagging Decision Tree w/ Under Sampling\n",
    "from imblearn.ensemble import BalancedBaggingClassifier\n",
    "\n",
    "b_dtree = BalancedBaggingClassifier()\n",
    "\n",
    "cv = RepeatedStratifiedKFold(n_splits=10, n_repeats=3, random_state=1)\n",
    "\n",
    "scores = cross_val_score(b_dtree, X_train, y_train, scoring='accuracy', cv=cv, n_jobs=-1)\n",
    "\n",
    "print('Bagging Tree Mean Accuracy: %.3f' % scores.mean())"
   ]
  },
  {
   "cell_type": "code",
   "execution_count": 48,
   "metadata": {},
   "outputs": [],
   "source": [
    "from imblearn.over_sampling import SMOTE\n",
    "from imblearn.pipeline import Pipeline"
   ]
  },
  {
   "cell_type": "code",
   "execution_count": 49,
   "metadata": {},
   "outputs": [
    {
     "name": "stderr",
     "output_type": "stream",
     "text": [
      "/Users/ishadighe/opt/anaconda3/lib/python3.7/site-packages/sklearn/utils/deprecation.py:87: FutureWarning: Function safe_indexing is deprecated; safe_indexing is deprecated in version 0.22 and will be removed in version 0.24.\n",
      "  warnings.warn(msg, category=FutureWarning)\n"
     ]
    },
    {
     "name": "stdout",
     "output_type": "stream",
     "text": [
      "Best Mean Cross-validation score: 0.83\n",
      "\n",
      "Logistic Regression parameters:  {'smote__k_neighbors': 4}\n",
      "Logistic Regression Test Performance:  0.8225538971807629\n",
      "Logistic Regression Accuracy Performance:  0.8225538971807629\n"
     ]
    },
    {
     "name": "stderr",
     "output_type": "stream",
     "text": [
      "/Users/ishadighe/opt/anaconda3/lib/python3.7/site-packages/sklearn/linear_model/_logistic.py:940: ConvergenceWarning: lbfgs failed to converge (status=1):\n",
      "STOP: TOTAL NO. of ITERATIONS REACHED LIMIT.\n",
      "\n",
      "Increase the number of iterations (max_iter) or scale the data as shown in:\n",
      "    https://scikit-learn.org/stable/modules/preprocessing.html\n",
      "Please also refer to the documentation for alternative solver options:\n",
      "    https://scikit-learn.org/stable/modules/linear_model.html#logistic-regression\n",
      "  extra_warning_msg=_LOGISTIC_SOLVER_CONVERGENCE_MSG)\n"
     ]
    }
   ],
   "source": [
    "#Logistic Regression\n",
    "pipe_roc_lg = Pipeline([('smote',SMOTE()),('lg',LogisticRegression())])\n",
    "param_roc_lg = {'smote__k_neighbors': [1,2,3,4,5]}\n",
    "\n",
    "ogrid_lg= GridSearchCV(pipe_roc_lg,param_roc_lg, cv=5, n_jobs=2, scoring='accuracy')\n",
    "ogrid_lg.fit(X_train, y_train)\n",
    "y_pred = ogrid_lg.predict(X_test)\n",
    "\n",
    "# Mean Cross Validation Score\n",
    "print(\"Best Mean Cross-validation score: {:.2f}\".format(ogrid_lg.best_score_))\n",
    "print()\n",
    "\n",
    "#Find the Best Parameters\n",
    "print('Logistic Regression parameters: ', ogrid_lg.best_params_)\n",
    "\n",
    "#Train and Test Data Performance\n",
    "print(\"Logistic Regression Test Performance: \", ogrid_lg.score(X_test,y_test))\n",
    "\n",
    "#Accuracy Score\n",
    "print(\"Logistic Regression Accuracy Performance: \", accuracy_score(y_test, y_pred))"
   ]
  },
  {
   "cell_type": "code",
   "execution_count": 50,
   "metadata": {},
   "outputs": [
    {
     "name": "stderr",
     "output_type": "stream",
     "text": [
      "/Users/ishadighe/opt/anaconda3/lib/python3.7/site-packages/sklearn/utils/deprecation.py:87: FutureWarning: Function safe_indexing is deprecated; safe_indexing is deprecated in version 0.22 and will be removed in version 0.24.\n",
      "  warnings.warn(msg, category=FutureWarning)\n"
     ]
    },
    {
     "name": "stdout",
     "output_type": "stream",
     "text": [
      "Best Mean Cross-validation score: 0.75\n",
      "\n",
      "Decision Tree parameters:  {'smote__k_neighbors': 3}\n",
      "Decision Tree Test Performance:  0.7481481481481481\n",
      "Decision Tree Accuracy Performance:  0.7481481481481481\n"
     ]
    }
   ],
   "source": [
    "#Decision Tree\n",
    "pipe_roc_dtree = Pipeline([('smote',SMOTE()),('dtree',DecisionTreeClassifier(max_depth=5))])\n",
    "param_roc_dtree = {'smote__k_neighbors': [1,2,3,4,5]}\n",
    "\n",
    "ogrid_dtree= GridSearchCV(pipe_roc_dtree,param_roc_dtree, cv=5, n_jobs=2, scoring='accuracy')\n",
    "ogrid_dtree.fit(X_train, y_train)\n",
    "y_pred = ogrid_dtree.predict(X_test)\n",
    "\n",
    "# Mean Cross Validation Score\n",
    "print(\"Best Mean Cross-validation score: {:.2f}\".format(ogrid_dtree.best_score_))\n",
    "print()\n",
    "\n",
    "#Find the Best Parameters\n",
    "print('Decision Tree parameters: ', ogrid_dtree.best_params_)\n",
    "\n",
    "#Train and Test Data Performance\n",
    "print(\"Decision Tree Test Performance: \", ogrid_dtree.score(X_test,y_test))\n",
    "\n",
    "#Accuracy Score\n",
    "print(\"Decision Tree Accuracy Performance: \", accuracy_score(y_test, y_pred))"
   ]
  },
  {
   "cell_type": "code",
   "execution_count": 51,
   "metadata": {},
   "outputs": [
    {
     "name": "stderr",
     "output_type": "stream",
     "text": [
      "/Users/ishadighe/opt/anaconda3/lib/python3.7/site-packages/sklearn/utils/deprecation.py:87: FutureWarning: Function safe_indexing is deprecated; safe_indexing is deprecated in version 0.22 and will be removed in version 0.24.\n",
      "  warnings.warn(msg, category=FutureWarning)\n"
     ]
    },
    {
     "name": "stdout",
     "output_type": "stream",
     "text": [
      "Best Mean Cross-validation score: 0.83\n",
      "\n",
      "Knn parameters:  {'smote__k_neighbors': 4}\n",
      "Knn Test Performance:  0.8223327805417358\n",
      "Knn Accuracy Performance:  0.8223327805417358\n"
     ]
    }
   ],
   "source": [
    "#Knn\n",
    "pipe_roc_knn = Pipeline([('smote',SMOTE()),('knn',KNeighborsClassifier(n_neighbors=6))])\n",
    "param_roc_knn = {'smote__k_neighbors': [1,2,3,4,5]}\n",
    "\n",
    "ogrid_knn= GridSearchCV(pipe_roc_knn,param_roc_knn, cv=5, n_jobs=2, scoring='accuracy')\n",
    "ogrid_knn.fit(X_train, y_train)\n",
    "y_pred = ogrid_knn.predict(X_test)\n",
    "\n",
    "# Mean Cross Validation Score\n",
    "print(\"Best Mean Cross-validation score: {:.2f}\".format(ogrid_knn.best_score_))\n",
    "print()\n",
    "\n",
    "#Find the Best Parameters\n",
    "print('Knn parameters: ', ogrid_knn.best_params_)\n",
    "\n",
    "#Train and Test Data Performance\n",
    "print(\"Knn Test Performance: \", ogrid_knn.score(X_test,y_test))\n",
    "\n",
    "#Accuracy Score\n",
    "print(\"Knn Accuracy Performance: \", accuracy_score(y_test, y_pred))"
   ]
  },
  {
   "cell_type": "code",
   "execution_count": 52,
   "metadata": {},
   "outputs": [
    {
     "name": "stderr",
     "output_type": "stream",
     "text": [
      "/Users/ishadighe/opt/anaconda3/lib/python3.7/site-packages/sklearn/utils/deprecation.py:87: FutureWarning: Function safe_indexing is deprecated; safe_indexing is deprecated in version 0.22 and will be removed in version 0.24.\n",
      "  warnings.warn(msg, category=FutureWarning)\n"
     ]
    },
    {
     "name": "stdout",
     "output_type": "stream",
     "text": [
      "Best Mean Cross-validation score: 0.88\n",
      "\n",
      "SVM parameters:  {'smote__k_neighbors': 5}\n",
      "SVM Test Performance:  0.8710824112864537\n",
      "SVM Accuracy Performance:  0.8212271973466003\n"
     ]
    }
   ],
   "source": [
    "#SVM\n",
    "pipe_roc_svm = Pipeline([('smote',SMOTE()),('svm',svm.SVC(C=10,gamma=0.1,kernel='rbf'))])\n",
    "param_roc_svm = {'smote__k_neighbors': [1,2,3,4,5]}\n",
    "\n",
    "ogrid_svm= GridSearchCV(pipe_roc_svm,param_roc_svm, cv=5, n_jobs=2, scoring='accuracy')\n",
    "ogrid_svm.fit(X_train, y_train)\n",
    "y_pred = ogrid_svm.predict(X_test)\n",
    "\n",
    "# Mean Cross Validation Score\n",
    "print(\"Best Mean Cross-validation score: {:.2f}\".format(ogrid_svm.best_score_))\n",
    "print()\n",
    "\n",
    "#Find the Best Parameters\n",
    "print('SVM parameters: ', ogrid_svm.best_params_)\n",
    "\n",
    "#Train and Test Data Performance\n",
    "print(\"SVM Test Performance: \", ogrid_svm.score(X_test,y_test))\n",
    "\n",
    "#Accuracy Score\n",
    "print(\"SVM Accuracy Performance: \", accuracy_score(y_test, y_pred))"
   ]
  },
  {
   "cell_type": "code",
   "execution_count": 53,
   "metadata": {},
   "outputs": [
    {
     "name": "stderr",
     "output_type": "stream",
     "text": [
      "/Users/ishadighe/opt/anaconda3/lib/python3.7/site-packages/sklearn/utils/deprecation.py:87: FutureWarning: Function safe_indexing is deprecated; safe_indexing is deprecated in version 0.22 and will be removed in version 0.24.\n",
      "  warnings.warn(msg, category=FutureWarning)\n"
     ]
    },
    {
     "name": "stdout",
     "output_type": "stream",
     "text": [
      "Best Mean Cross-validation score: 0.89\n",
      "\n",
      "Random Forest parameters:  {'rf__max_depth': 5, 'smote__k_neighbors': 1}\n",
      "Random Forest Test Performance:  0.8870849741273302\n",
      "Random Forest Accuracy Performance:  0.750138197899392\n"
     ]
    }
   ],
   "source": [
    "#Random Forest\n",
    "pipe_roc_rf = Pipeline([('smote',SMOTE()),('rf',RandomForestClassifier(n_estimators=50,criterion='gini',\n",
    "                                                                       max_features='auto'))])\n",
    "param_roc_rf = {'smote__k_neighbors': [1,2,3,4,5],\n",
    "                'rf__max_depth' : [4,5]}\n",
    "\n",
    "ogrid_rf= GridSearchCV(pipe_roc_rf,param_roc_rf, cv=5, n_jobs=2, scoring='accuracy')\n",
    "ogrid_rf.fit(X_train, y_train)\n",
    "y_pred = ogrid_rf.predict(X_test)\n",
    "\n",
    "# Mean Cross Validation Score\n",
    "print(\"Best Mean Cross-validation score: {:.2f}\".format(ogrid_rf.best_score_))\n",
    "print()\n",
    "\n",
    "#Find the Best Parameters\n",
    "print('Random Forest parameters: ', ogrid_rf.best_params_)\n",
    "\n",
    "#Train and Test Data Performance\n",
    "print(\"Random Forest Test Performance: \", ogrid_rf.score(X_test,y_test))\n",
    "\n",
    "#Accuracy Score\n",
    "print(\"Random Forest Accuracy Performance: \", accuracy_score(y_test, y_pred))"
   ]
  },
  {
   "cell_type": "code",
   "execution_count": 54,
   "metadata": {
    "scrolled": true
   },
   "outputs": [
    {
     "name": "stderr",
     "output_type": "stream",
     "text": [
      "/Users/ishadighe/opt/anaconda3/lib/python3.7/site-packages/sklearn/utils/deprecation.py:87: FutureWarning: Function safe_indexing is deprecated; safe_indexing is deprecated in version 0.22 and will be removed in version 0.24.\n",
      "  warnings.warn(msg, category=FutureWarning)\n",
      "/Users/ishadighe/opt/anaconda3/lib/python3.7/site-packages/sklearn/utils/deprecation.py:87: FutureWarning: Function safe_indexing is deprecated; safe_indexing is deprecated in version 0.22 and will be removed in version 0.24.\n",
      "  warnings.warn(msg, category=FutureWarning)\n",
      "/Users/ishadighe/opt/anaconda3/lib/python3.7/site-packages/sklearn/utils/deprecation.py:87: FutureWarning: Function safe_indexing is deprecated; safe_indexing is deprecated in version 0.22 and will be removed in version 0.24.\n",
      "  warnings.warn(msg, category=FutureWarning)\n",
      "/Users/ishadighe/opt/anaconda3/lib/python3.7/site-packages/sklearn/utils/deprecation.py:87: FutureWarning: Function safe_indexing is deprecated; safe_indexing is deprecated in version 0.22 and will be removed in version 0.24.\n",
      "  warnings.warn(msg, category=FutureWarning)\n",
      "/Users/ishadighe/opt/anaconda3/lib/python3.7/site-packages/sklearn/utils/deprecation.py:87: FutureWarning: Function safe_indexing is deprecated; safe_indexing is deprecated in version 0.22 and will be removed in version 0.24.\n",
      "  warnings.warn(msg, category=FutureWarning)\n",
      "/Users/ishadighe/opt/anaconda3/lib/python3.7/site-packages/sklearn/utils/deprecation.py:87: FutureWarning: Function safe_indexing is deprecated; safe_indexing is deprecated in version 0.22 and will be removed in version 0.24.\n",
      "  warnings.warn(msg, category=FutureWarning)\n",
      "/Users/ishadighe/opt/anaconda3/lib/python3.7/site-packages/sklearn/utils/deprecation.py:87: FutureWarning: Function safe_indexing is deprecated; safe_indexing is deprecated in version 0.22 and will be removed in version 0.24.\n",
      "  warnings.warn(msg, category=FutureWarning)\n",
      "/Users/ishadighe/opt/anaconda3/lib/python3.7/site-packages/sklearn/utils/deprecation.py:87: FutureWarning: Function safe_indexing is deprecated; safe_indexing is deprecated in version 0.22 and will be removed in version 0.24.\n",
      "  warnings.warn(msg, category=FutureWarning)\n",
      "/Users/ishadighe/opt/anaconda3/lib/python3.7/site-packages/sklearn/utils/deprecation.py:87: FutureWarning: Function safe_indexing is deprecated; safe_indexing is deprecated in version 0.22 and will be removed in version 0.24.\n",
      "  warnings.warn(msg, category=FutureWarning)\n",
      "/Users/ishadighe/opt/anaconda3/lib/python3.7/site-packages/sklearn/utils/deprecation.py:87: FutureWarning: Function safe_indexing is deprecated; safe_indexing is deprecated in version 0.22 and will be removed in version 0.24.\n",
      "  warnings.warn(msg, category=FutureWarning)\n",
      "/Users/ishadighe/opt/anaconda3/lib/python3.7/site-packages/sklearn/utils/deprecation.py:87: FutureWarning: Function safe_indexing is deprecated; safe_indexing is deprecated in version 0.22 and will be removed in version 0.24.\n",
      "  warnings.warn(msg, category=FutureWarning)\n"
     ]
    },
    {
     "name": "stdout",
     "output_type": "stream",
     "text": [
      "Best Mean Cross-validation score: 0.90\n",
      "\n",
      "Easy Ensemble parameters:  {'smote__k_neighbors': 1}\n",
      "Easy Ensemble Test Performance:  0.8970033438210558\n",
      "Easy Ensemble Accuracy Performance:  0.8211166390270868\n"
     ]
    }
   ],
   "source": [
    "#Easy Ensemble Classifer\n",
    "from imblearn.ensemble import EasyEnsembleClassifier\n",
    "pipe_roc_ee = Pipeline([('smote',SMOTE()),('ee',EasyEnsembleClassifier())])\n",
    "param_roc_ee = {'smote__k_neighbors': [1,2,3,4,5]}\n",
    "\n",
    "ogrid_ee= GridSearchCV(pipe_roc_ee,param_roc_ee, cv=5, n_jobs=2, scoring='accuracy')\n",
    "ogrid_ee.fit(X_train, y_train)\n",
    "y_pred = ogrid_ee.predict(X_test)\n",
    "\n",
    "# Mean Cross Validation Score\n",
    "print(\"Best Mean Cross-validation score: {:.2f}\".format(ogrid_ee.best_score_))\n",
    "print()\n",
    "\n",
    "#Find the Best Parameters\n",
    "print('Easy Ensemble parameters: ', ogrid_ee.best_params_)\n",
    "\n",
    "#Train and Test Data Performance\n",
    "print(\"Easy Ensemble Test Performance: \", ogrid_ee.score(X_test,y_test))\n",
    "\n",
    "#Accuracy Score\n",
    "print(\"Easy Ensemble Accuracy Performance: \", accuracy_score(y_test, y_pred))"
   ]
  },
  {
   "cell_type": "code",
   "execution_count": null,
   "metadata": {},
   "outputs": [],
   "source": [
    "#XGBoost\n",
    "pipe_roc_xgb = Pipeline([('smote',SMOTE()),('xgb',XGBClassifier(random_state=42, early_stopping_rounds=2,n_estimators=100,objective ='binary:logistic',\n",
    "                        max_depth = 4,))])\n",
    "param_roc_xgb = {'smote__k_neighbors': [1,2,3,4,5],\n",
    "                 'xgb__learning_rate' : [0.1,0.5]}\n",
    "ogrid_xgb= GridSearchCV(pipe_roc_xgb,param_roc_xgb, cv=5, n_jobs=2, scoring='roc_auc')\n",
    "ogrid_xgb.fit(X_train, y_train)\n",
    "y_pred = ogrid_xgb.predict(X_test)\n",
    "\n",
    "# Mean Cross Validation Score\n",
    "print(\"Best Mean Cross-validation score: {:.2f}\".format(ogrid_xgb.best_score_))\n",
    "print()\n",
    "\n",
    "#Find the Best Parameters\n",
    "print('XGBoost parameters: ', ogrid_xgb.best_params_)\n",
    "\n",
    "#Train and Test Data Performance\n",
    "print(\"XGBoost Test Performance: \", ogrid_xgb.score(X_test,y_test))\n",
    "\n",
    "#Accuracy Score\n",
    "print(\"XgBoost Accuracy Performance: \", accuracy_score(y_test, y_pred))"
   ]
  },
  {
   "cell_type": "code",
   "execution_count": 55,
   "metadata": {},
   "outputs": [],
   "source": [
    "#Top 5 Estimators\n",
    "estimators_ = [('knn',grid_knn.best_estimator_),\n",
    "               ('svm',grid_svm.best_estimator_),\n",
    "            ('rf',grid_rf.best_estimator_),\n",
    "               ('gb',grid_gb.best_estimator_),\n",
    "            ('et',grid_et.best_estimator_)]"
   ]
  },
  {
   "cell_type": "code",
   "execution_count": 57,
   "metadata": {},
   "outputs": [
    {
     "name": "stdout",
     "output_type": "stream",
     "text": [
      "Best Mean Cross-validation score: 0.85\n",
      "\n",
      "Stacking Classifier parameters:  {'final_estimator__C': 0.1, 'stack_method': 'auto'}\n",
      "Stacking Classifier Test Performance:  0.8416804864566059\n",
      "Stacking Classifier Accuracy Performance:  0.8416804864566059\n"
     ]
    }
   ],
   "source": [
    "#Stacking Classifer\n",
    "from sklearn.ensemble import StackingClassifier\n",
    "sclf2 = StackingClassifier(estimators= estimators_\n",
    "                            , final_estimator=LogisticRegression())\n",
    "sclf2_param = {\n",
    "              'final_estimator__C' : [0.1,0.2],\n",
    "              'stack_method':['auto']\n",
    "             }\n",
    "sclf2_grid = GridSearchCV(sclf2, sclf2_param,cv=5, return_train_score=True,scoring='accuracy' )\n",
    "sclf2_grid.fit(X_train,y_train)\n",
    "y_pred = sclf2_grid.predict(X_test)\n",
    "\n",
    "# Mean Cross Validation Score\n",
    "print(\"Best Mean Cross-validation score: {:.2f}\".format(sclf2_grid.best_score_))\n",
    "print()\n",
    "\n",
    "#Find the Best Parameters\n",
    "print('Stacking Classifier parameters: ', sclf2_grid.best_params_)\n",
    "\n",
    "#Train and Test Data Performance\n",
    "print(\"Stacking Classifier Test Performance: \", sclf2_grid.score(X_test,y_test))\n",
    "\n",
    "#Accuracy Score\n",
    "print(\"Stacking Classifier Accuracy Performance: \", accuracy_score(y_test, y_pred))"
   ]
  }
 ],
 "metadata": {
  "kernelspec": {
   "display_name": "Python 3",
   "language": "python",
   "name": "python3"
  },
  "language_info": {
   "codemirror_mode": {
    "name": "ipython",
    "version": 3
   },
   "file_extension": ".py",
   "mimetype": "text/x-python",
   "name": "python",
   "nbconvert_exporter": "python",
   "pygments_lexer": "ipython3",
   "version": "3.7.4"
  }
 },
 "nbformat": 4,
 "nbformat_minor": 2
}
